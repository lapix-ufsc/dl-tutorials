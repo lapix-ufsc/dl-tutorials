{
 "cells": [
  {
   "cell_type": "markdown",
   "metadata": {},
   "source": [
    "# CCAgT: Images of Cervical Cells with AgNOR Stain Technique"
   ]
  },
  {
   "cell_type": "markdown",
   "metadata": {},
   "source": [
    "This dataset was available at Mendelay data in the link: [https://doi.org/10.17632/wg4bpm33hj.2](https://doi.org/10.17632/wg4bpm33hj.2)\n",
    "\n",
    "\n",
    "Contains 9339 images with resolution of 1600×1200 where each pixel is 0.111µmX0.111µm from 15 different slides stained with AgNOR technique, having at least one label per image. Have more than sixty-three thousand annotations. The images from patients of Gynecology and Colonoscopy Outpatient Clinic of the Polydoro Ernani de São Thiago University Hospital of the Universidade Federal de Santa Catarina (HU-UFSC). This research was approved by the UFSC Research Ethics Committee (CEPSH), protocol number 57423616.3.0000.0121. First, all patients involved were informed about the objectives of the study, and those who agreed to participate signed an informed consent form."
   ]
  },
  {
   "cell_type": "markdown",
   "metadata": {},
   "source": [
    "## Using Hugging Faces datasets"
   ]
  },
  {
   "cell_type": "code",
   "execution_count": null,
   "metadata": {},
   "outputs": [],
   "source": [
    "# Installing HF datasets lib\n",
    "!pip install datasets"
   ]
  },
  {
   "cell_type": "code",
   "execution_count": null,
   "metadata": {},
   "outputs": [],
   "source": [
    "%nbdev_collapse_output\n",
    "from datasets import load_dataset\n",
    "\n",
    "dataset = load_dataset(\"lapix/CCAgT\")"
   ]
  }
 ],
 "metadata": {
  "kernelspec": {
   "display_name": "Python 3.8.10 ('venv': venv)",
   "language": "python",
   "name": "python3"
  },
  "language_info": {
   "name": "python",
   "version": "3.8.10"
  },
  "orig_nbformat": 4,
  "vscode": {
   "interpreter": {
    "hash": "14fc90b036d17ab8931f0afc7b06851673501038f7e6077c614cdf5f462d6df3"
   }
  }
 },
 "nbformat": 4,
 "nbformat_minor": 2
}
