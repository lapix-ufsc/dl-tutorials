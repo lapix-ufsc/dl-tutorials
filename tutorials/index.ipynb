{
 "cells": [
  {
   "cell_type": "markdown",
   "metadata": {},
   "source": [
    "# Deep Learning tutorials\n",
    "\n",
    "> This repository contains demonstrations done with deep learning models for computer vision."
   ]
  },
  {
   "cell_type": "markdown",
   "metadata": {},
   "source": [
    "## Content"
   ]
  },
  {
   "cell_type": "markdown",
   "metadata": {},
   "source": [
    "This package/repository is not a library, but a set of tutorials using several libraries with models and utilities for computer vision using deep learning. \n",
    "\n",
    "These tutorials were built in a way that their contents are self-contained, and that they can be used as a basis for other experiments.\n",
    "\n",
    "The tutorials will cover models and tools for semantic segmentation, object detection, image classification, tracking, augmentation, model evaluation, among other topics."
   ]
  },
  {
   "cell_type": "markdown",
   "metadata": {},
   "source": [
    "## Datasets"
   ]
  },
  {
   "cell_type": "markdown",
   "metadata": {},
   "source": [
    "These tutorials are the fruit of different Lapix researchers, who throughout their masters or doctoral degrees developed several computer vision datasets.\n",
    "\n",
    "Therefore, these tutorials were created from experiments using the following datasets:"
   ]
  },
  {
   "cell_type": "markdown",
   "metadata": {},
   "source": [
    "1. [CCAgT: Images of Cervical Cells with AgNOR Stain Technique](https://doi.org/10.17632/wg4bpm33hj.2) \n",
    "1. [Clouds-1000](https://doi.org/10.17632/4pw8vfsnpx.2)\n",
    "1. [UFSC OCPap: Papanicolaou Stained Oral Cytology Dataset (v4)](https://doi.org/10.17632/dr7ydy9xbk.2)"
   ]
  },
  {
   "cell_type": "markdown",
   "metadata": {},
   "source": [
    "## Authors"
   ]
  },
  {
   "cell_type": "markdown",
   "metadata": {},
   "source": [
    "|             Name             | GitHub                                           | Orcid                                                        |\n",
    "| :--------------------------: | ------------------------------------------------ | ------------------------------------------------------------ |\n",
    "|     Aldo von Wangenheim      | [@awangenh](https://github.com/awangenh)         | [0000-0003-4532-1417](https://orcid.org/0000-0003-4532-1417) |\n",
    "| João Gustavo Atkinson Amorim | [@johnnv1](http://github.com/johnnv1)            | [0000-0003-3361-6891](https://orcid.org/0000-0003-3361-6891) |\n",
    "| André Victória Matias        | [@andrevmatias](https://github.com/andrevmatias) | [0000-0003-0268-0233](https://orcid.org/0000-0003-0268-0233) |\n"
   ]
  }
 ],
 "metadata": {
  "kernelspec": {
   "display_name": "python3",
   "language": "python",
   "name": "python3"
  }
 },
 "nbformat": 4,
 "nbformat_minor": 4
}
