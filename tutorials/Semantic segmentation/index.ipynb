{
 "cells": [
  {
   "cell_type": "markdown",
   "metadata": {},
   "source": [
    "# General Explanation"
   ]
  },
  {
   "cell_type": "markdown",
   "metadata": {},
   "source": [
    "It is called “semantic” because it associates an individual pixel directly with its “meaning”: each pixel is classified accordingly to the class of object to which it pertains and not only aggregated into meaningless regions based on syntactic criteria, such as color homogeneity or borders and color variation. Semantic segmentation eliminates the need for additional pattern recognition for the classification of the regions that result from a segmentation."
   ]
  }
 ],
 "metadata": {
  "kernelspec": {
   "display_name": "python3",
   "language": "python",
   "name": "python3"
  }
 },
 "nbformat": 4,
 "nbformat_minor": 2
}
