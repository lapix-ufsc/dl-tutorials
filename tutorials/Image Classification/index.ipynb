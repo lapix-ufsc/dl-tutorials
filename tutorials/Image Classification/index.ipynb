{
 "cells": [
  {
   "cell_type": "markdown",
   "metadata": {},
   "source": [
    "# Image Classification"
   ]
  },
  {
   "cell_type": "markdown",
   "metadata": {},
   "source": [
    "Image classification is a fundamental task in computer vision. This task aims at categorizing images into one or several predefined classes. Image classification can be considered the basis for other computer vision tasks, e.g., localization, detection, and segmentation."
   ]
  }
 ],
 "metadata": {
  "kernelspec": {
   "display_name": "Python 3.8.10 ('venv': venv)",
   "language": "python",
   "name": "python3"
  }
 },
 "nbformat": 4,
 "nbformat_minor": 2
}
