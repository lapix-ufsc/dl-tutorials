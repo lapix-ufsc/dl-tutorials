{
 "cells": [
  {
   "cell_type": "markdown",
   "metadata": {},
   "source": [
    "---\n",
    "title: Semantic Segmentation \n",
    "author: João G. A. Amorim\n",
    "date: October 09, 2022\n",
    "jupyter: python3\n",
    "---"
   ]
  },
  {
   "cell_type": "markdown",
   "metadata": {},
   "source": [
    "[![Open in Colab](https://colab.research.google.com/assets/colab-badge.svg)](https://colab.sandbox.google.com/github/lapix-ufsc/dl-tutorials/blob/main/tutorials/Evaluation/torchmetrics/Semantic_Segmentation.ipynb)"
   ]
  },
  {
   "cell_type": "markdown",
   "metadata": {},
   "source": [
    "## Imports"
   ]
  },
  {
   "cell_type": "code",
   "execution_count": null,
   "metadata": {},
   "outputs": [
    {
     "name": "stdout",
     "output_type": "stream",
     "text": [
      "Looking in indexes: https://pypi.org/simple, https://us-python.pkg.dev/colab-wheels/public/simple/\n",
      "Requirement already satisfied: torchmetrics in /usr/local/lib/python3.7/dist-packages (0.10.0)\n",
      "Requirement already satisfied: torch>=1.3.1 in /usr/local/lib/python3.7/dist-packages (from torchmetrics) (1.12.1+cu113)\n",
      "Requirement already satisfied: numpy>=1.17.2 in /usr/local/lib/python3.7/dist-packages (from torchmetrics) (1.21.6)\n",
      "Requirement already satisfied: packaging in /usr/local/lib/python3.7/dist-packages (from torchmetrics) (21.3)\n",
      "Requirement already satisfied: typing-extensions in /usr/local/lib/python3.7/dist-packages (from torchmetrics) (4.1.1)\n",
      "Requirement already satisfied: pyparsing!=3.0.5,>=2.0.2 in /usr/local/lib/python3.7/dist-packages (from packaging->torchmetrics) (3.0.9)\n"
     ]
    }
   ],
   "source": [
    "!pip install torchmetrics\n",
    "!pip install lapixdl"
   ]
  },
  {
   "cell_type": "code",
   "execution_count": null,
   "metadata": {},
   "outputs": [],
   "source": [
    "import matplotlib\n",
    "import matplotlib.pyplot as plt\n",
    "import torch\n",
    "import torchmetrics\n",
    "from lapixdl.evaluation.model import SegmentationMetrics"
   ]
  },
  {
   "cell_type": "markdown",
   "metadata": {},
   "source": [
    "## Create input and output example\n",
    "\n",
    "-> pred: Predictions from model (probabilities, logits or labels) - at this example we will use labels.\n",
    "\n",
    "-> target: Ground truth values"
   ]
  },
  {
   "cell_type": "code",
   "execution_count": null,
   "metadata": {},
   "outputs": [
    {
     "data": {
      "text/plain": [
       "tensor([[1, 1, 1,  ..., 0, 0, 0],\n",
       "        [1, 1, 1,  ..., 0, 0, 0],\n",
       "        [1, 1, 1,  ..., 0, 0, 0],\n",
       "        ...,\n",
       "        [0, 0, 0,  ..., 0, 0, 0],\n",
       "        [0, 0, 0,  ..., 0, 0, 0],\n",
       "        [0, 0, 0,  ..., 0, 0, 0]], dtype=torch.uint8)"
      ]
     },
     "execution_count": null,
     "metadata": {},
     "output_type": "execute_result"
    }
   ],
   "source": [
    "pred = torch.zeros((100, 100), dtype=torch.uint8)\n",
    "pred[:10, :10] = 1\n",
    "pred[40:50, 40:50] = 2\n",
    "pred"
   ]
  },
  {
   "cell_type": "code",
   "execution_count": null,
   "metadata": {},
   "outputs": [
    {
     "data": {
      "text/plain": [
       "tensor([[1, 1, 1,  ..., 0, 0, 0],\n",
       "        [1, 1, 1,  ..., 0, 0, 0],\n",
       "        [1, 1, 1,  ..., 0, 0, 0],\n",
       "        ...,\n",
       "        [0, 0, 0,  ..., 0, 0, 0],\n",
       "        [0, 0, 0,  ..., 0, 0, 0],\n",
       "        [0, 0, 0,  ..., 0, 0, 0]], dtype=torch.uint8)"
      ]
     },
     "execution_count": null,
     "metadata": {},
     "output_type": "execute_result"
    }
   ],
   "source": [
    "target = torch.zeros((100, 100), dtype=torch.uint8)\n",
    "\n",
    "target[:10, :10] = 1\n",
    "target[80:90, 80:90] = 3\n",
    "target"
   ]
  },
  {
   "cell_type": "markdown",
   "metadata": {},
   "source": [
    "Just create utilies tools, a map between category id and the category name, and the number of classes."
   ]
  },
  {
   "cell_type": "code",
   "execution_count": null,
   "metadata": {},
   "outputs": [
    {
     "data": {
      "text/plain": [
       "(4, {0: 'background', 1: 'A', 2: 'B', 3: 'C'})"
      ]
     },
     "execution_count": null,
     "metadata": {},
     "output_type": "execute_result"
    }
   ],
   "source": [
    "id2label = {0: \"background\", 1: \"A\", 2: \"B\", 3: \"C\"}\n",
    "\n",
    "num_classes = len(id2label)\n",
    "\n",
    "num_classes, id2label"
   ]
  },
  {
   "cell_type": "markdown",
   "metadata": {},
   "source": [
    "## Plot the prediction and target for demo visualization"
   ]
  },
  {
   "cell_type": "markdown",
   "metadata": {},
   "source": [
    "Convert the tensors into numpy array"
   ]
  },
  {
   "cell_type": "code",
   "execution_count": null,
   "metadata": {},
   "outputs": [],
   "source": [
    "pred_array = pred.numpy()\n",
    "target_array = target.numpy()"
   ]
  },
  {
   "cell_type": "markdown",
   "metadata": {},
   "source": [
    "Load a cmap and ensure to have just the number of classes size. Also build a handle for the legend of the figures"
   ]
  },
  {
   "cell_type": "code",
   "execution_count": null,
   "metadata": {},
   "outputs": [],
   "source": [
    "cmap = matplotlib.cm.get_cmap(\"Pastel1\")\n",
    "\n",
    "cmap = matplotlib.colors.LinearSegmentedColormap.from_list(\n",
    "    name=cmap.name,\n",
    "    colors=[color for idx, color in zip(range(num_classes), cmap.colors)],\n",
    "    N=num_classes,\n",
    ")\n",
    "\n",
    "legend_elements = [\n",
    "    matplotlib.patches.Patch(\n",
    "        color=cmap(idx),\n",
    "        label=f\"{id}: {name}\",\n",
    "    )\n",
    "    for idx, (id, name) in enumerate(id2label.items())\n",
    "]"
   ]
  },
  {
   "cell_type": "markdown",
   "metadata": {},
   "source": [
    "Create a figure, and plot target and prediction side by side."
   ]
  },
  {
   "cell_type": "code",
   "execution_count": null,
   "metadata": {},
   "outputs": [
    {
     "data": {
      "image/png": "[encoded data removed]",
      "text/plain": [
       "<Figure size 1600x900 with 2 Axes>"
      ]
     },
     "metadata": {
      "needs_background": "light"
     },
     "output_type": "display_data"
    }
   ],
   "source": [
    "fig, (ax1, ax2) = plt.subplots(\n",
    "    nrows=1, ncols=2, sharey=True, sharex=True, figsize=(16, 9), dpi=100\n",
    ")\n",
    "\n",
    "ax1.imshow(target_array, cmap=cmap, vmax=max(id2label), vmin=min(id2label))\n",
    "ax1.legend(handles=legend_elements)\n",
    "ax1.axis(\"off\")\n",
    "ax1.set_title(\"Target\")\n",
    "\n",
    "ax2.imshow(pred_array, cmap=cmap, vmax=max(id2label), vmin=min(id2label))\n",
    "ax2.legend(handles=legend_elements)\n",
    "ax2.axis(\"off\")\n",
    "ax2.set_title(\"Prediction\")\n",
    "\n",
    "plt.show()"
   ]
  },
  {
   "cell_type": "markdown",
   "metadata": {},
   "source": [
    "## Compute metrics with `torchmetrics`"
   ]
  },
  {
   "cell_type": "markdown",
   "metadata": {},
   "source": [
    "For semantic segmentation we can use the `classification` module to compute the desired metrics.\n",
    "\n",
    "\n",
    "\n",
    "The metrics have practically the same configuration parameters (to be sure, check the docs of each metric). They are:\n",
    "\n",
    "- average=\n",
    "  - 'none' : output will be the metric for each category\n",
    "  - 'macro': the metric is calculate for each class separately, and average the metrics across classes (with equal weights for each class).\n",
    "- mdmc_reduce or mdmc_average=\n",
    "  - 'global': will flatten the inputs, and them apply the `average` as usual. \n",
    "  - None: Should be left unchanged if your data is not multi-dimensional multi-class.\n",
    "- ignore_index=\n",
    "  - Integer specifying a target class to ignore.\n",
    "- num_classes=\n",
    "  - Number of classes.\n",
    "- threshold=\n",
    "  - Threshold for transforming probability or logit predictions to binary (0,1) predictions, in the case of binary or multi-label inputs. Default value of 0.5 corresponds to input being probabilities."
   ]
  },
  {
   "cell_type": "markdown",
   "metadata": {},
   "source": [
    "### Compute the confusion matrix parameter (tp, fp, tn, fn)\n"
   ]
  },
  {
   "cell_type": "markdown",
   "metadata": {},
   "source": [
    "This can be done using `stat_scores`from torch metrics, you can found more at the [official docs](https://torchmetrics.readthedocs.io/en/stable/classification/stat_scores.html). If desires the confusion matrix, check the [official docs of confusion matrix](https://torchmetrics.readthedocs.io/en/stable/classification/confusion_matrix.html?highlight=confusion%20matrix).\n",
    "\n",
    "The `reduce` parameter will define the reduction which will be applied. The \"macro\" value will compute the statistics for each class separately.\n",
    "\n",
    "The `mdmc_reduce` will be **required** because we are working with a tensor which represent an image. The \"global\" value will flatten the inputs, and them apply the `reduce` as usual. \n",
    "\n",
    "The `num_classes`, the number/quantity of classes is necessary for multicategorical data.\n",
    "\n",
    "\n",
    "\n",
    "With `reduce='macro'` and `mdmc_reduce='global'` the output will be in the shape: (num_classes, 5). Where this 5 values will be `TP`, `FP`, `TN`, `FN`, sup (sup stands for support and equals to: TP + FN).\n"
   ]
  },
  {
   "cell_type": "code",
   "execution_count": null,
   "metadata": {},
   "outputs": [
    {
     "data": {
      "text/plain": [
       "tensor([[9700,  100,  100,  100, 9800],\n",
       "        [ 100,    0, 9900,    0,  100],\n",
       "        [   0,  100, 9900,    0,    0],\n",
       "        [   0,    0, 9900,  100,  100]])"
      ]
     },
     "execution_count": null,
     "metadata": {},
     "output_type": "execute_result"
    }
   ],
   "source": [
    "stat = torchmetrics.functional.stat_scores(\n",
    "    pred, target, reduce=\"macro\", mdmc_reduce=\"global\", num_classes=num_classes\n",
    ")\n",
    "stat"
   ]
  },
  {
   "cell_type": "markdown",
   "metadata": {},
   "source": [
    "We can do a pretty print of this matrix for demonstration only."
   ]
  },
  {
   "cell_type": "code",
   "execution_count": null,
   "metadata": {},
   "outputs": [
    {
     "name": "stdout",
     "output_type": "stream",
     "text": [
      "          \tTP\t | \tFP\t | \tTN\t | \tFN\t | \tsup\n",
      "background |\t9700 \t | \t100  \t | \t100  \t | \t100  \t | \t9800 \n",
      "A          |\t100  \t | \t0    \t | \t9900 \t | \t0    \t | \t100  \n",
      "B          |\t0    \t | \t100  \t | \t9900 \t | \t0    \t | \t0    \n",
      "C          |\t0    \t | \t0    \t | \t9900 \t | \t100  \t | \t100  \n"
     ]
    }
   ],
   "source": [
    "out_sequence = [\"TP\", \"FP\", \"TN\", \"FN\", \"sup\"]\n",
    "\n",
    "print(\" \" * 10 + \"\\t\" + \"\\t | \\t\".join([f\"{t}\" for t in out_sequence]))\n",
    "for idx, name in enumerate(id2label.values()):\n",
    "    txt = \"\\t | \\t\".join([f\"{v:<5}\" for v in stat[idx]])\n",
    "    print(f\"{name:<10} |\\t{txt}\")"
   ]
  },
  {
   "cell_type": "markdown",
   "metadata": {},
   "source": [
    "### Accuracy\n",
    "\n",
    "[Official docs](https://torchmetrics.readthedocs.io/en/stable/classification/accuracy.html)"
   ]
  },
  {
   "cell_type": "markdown",
   "metadata": {},
   "source": [
    "First needs to init the metric class, and after you can pass the `pred` and `target` tensor to compute the metric values.\n",
    "\n",
    "The output shape in this case will be (num_classes), where each position of the tensor is equals to the IoU of each category. \n",
    "\n",
    "\n",
    "If you desire to have the metric for each category, just use `average='none'`. "
   ]
  },
  {
   "cell_type": "code",
   "execution_count": null,
   "metadata": {},
   "outputs": [
    {
     "data": {
      "text/plain": [
       "tensor([0.9898, 1.0000, 0.0000, 0.0000])"
      ]
     },
     "execution_count": null,
     "metadata": {},
     "output_type": "execute_result"
    }
   ],
   "source": [
    "acc = torchmetrics.classification.Accuracy(\n",
    "    average=\"none\", mdmc_reduce=\"global\", num_classes=num_classes\n",
    ")\n",
    "acc(pred, target)"
   ]
  },
  {
   "cell_type": "markdown",
   "metadata": {},
   "source": [
    "If you desire to ignore the value of some specific category, you can use `ignore_index`."
   ]
  },
  {
   "cell_type": "code",
   "execution_count": null,
   "metadata": {},
   "outputs": [
    {
     "data": {
      "text/plain": [
       "tensor([nan, 1., 0., 0.])"
      ]
     },
     "execution_count": null,
     "metadata": {},
     "output_type": "execute_result"
    }
   ],
   "source": [
    "acc = torchmetrics.classification.Accuracy(\n",
    "    average=\"none\", mdmc_reduce=\"global\", num_classes=num_classes, ignore_index=0\n",
    ")\n",
    "acc(pred, target)"
   ]
  },
  {
   "cell_type": "markdown",
   "metadata": {},
   "source": [
    "Using `average='macro'` the metric is calculate for each class separately, and average the metrics across classes (with equal weights for each class)."
   ]
  },
  {
   "cell_type": "code",
   "execution_count": null,
   "metadata": {},
   "outputs": [
    {
     "data": {
      "text/plain": [
       "tensor(0.3333)"
      ]
     },
     "execution_count": null,
     "metadata": {},
     "output_type": "execute_result"
    }
   ],
   "source": [
    "acc = torchmetrics.classification.Accuracy(\n",
    "    average=\"macro\", mdmc_reduce=\"global\", num_classes=num_classes, ignore_index=0\n",
    ")\n",
    "acc(pred, target)"
   ]
  },
  {
   "cell_type": "markdown",
   "metadata": {},
   "source": [
    "### Jaccard Index | Intersection over Union (IoU)\n",
    "\n",
    "[Official docs](https://torchmetrics.readthedocs.io/en/stable/classification/jaccard_index.html)"
   ]
  },
  {
   "cell_type": "markdown",
   "metadata": {},
   "source": [
    "In this case, if you desire to have the metric for each category, just use `average='none'`. \n",
    "\n",
    "First needs to init the metric class, and after you can pass the `pred` and `target` tensor to compute the metric values.\n",
    "\n",
    "The output shape in this case will be (num_classes), where each position of the tensor is equals to the IoU of each category. "
   ]
  },
  {
   "cell_type": "code",
   "execution_count": null,
   "metadata": {},
   "outputs": [
    {
     "data": {
      "text/plain": [
       "tensor([0.9798, 1.0000, 0.0000, 0.0000])"
      ]
     },
     "execution_count": null,
     "metadata": {},
     "output_type": "execute_result"
    }
   ],
   "source": [
    "jaccard = torchmetrics.classification.JaccardIndex(\n",
    "    average=\"none\", num_classes=num_classes\n",
    ")\n",
    "jaccard(pred, target)"
   ]
  },
  {
   "cell_type": "markdown",
   "metadata": {},
   "source": [
    "Using `average='macro'` the metric is calculate for each class separately, and average the metrics across classes (with equal weights for each class)."
   ]
  },
  {
   "cell_type": "code",
   "execution_count": null,
   "metadata": {},
   "outputs": [
    {
     "data": {
      "text/plain": [
       "tensor(0.4949)"
      ]
     },
     "execution_count": null,
     "metadata": {},
     "output_type": "execute_result"
    }
   ],
   "source": [
    "jaccard = torchmetrics.classification.JaccardIndex(\n",
    "    average=\"macro\", num_classes=num_classes\n",
    ")\n",
    "jaccard(pred, target)"
   ]
  },
  {
   "cell_type": "markdown",
   "metadata": {},
   "source": [
    "### Dice score | F1-score\n",
    "\n",
    "[Official docs f1-score](https://torchmetrics.readthedocs.io/en/stable/classification/f1_score.html)\n",
    "\n",
    "[Official docs dice](https://torchmetrics.readthedocs.io/en/stable/classification/dice.html)"
   ]
  },
  {
   "cell_type": "markdown",
   "metadata": {},
   "source": [
    "Using `average='macro'` the metric is calculate for each class separately, and average the metrics across classes (with equal weights for each class).\n",
    "\n",
    "The `mdmc_reduce` or `mdmc_average` will be **required** because we are working with a tensor which represent an image. The \"global\" value will flatten the inputs, and them apply the `average` as usual. "
   ]
  },
  {
   "cell_type": "code",
   "execution_count": null,
   "metadata": {},
   "outputs": [
    {
     "data": {
      "text/plain": [
       "tensor(0.2724)"
      ]
     },
     "execution_count": null,
     "metadata": {},
     "output_type": "execute_result"
    }
   ],
   "source": [
    "f1score = torchmetrics.classification.F1Score(\n",
    "    average=\"macro\", mdmc_reduce=\"global\", num_classes=num_classes\n",
    ")\n",
    "f1score(pred, target)"
   ]
  },
  {
   "cell_type": "code",
   "execution_count": null,
   "metadata": {},
   "outputs": [
    {
     "data": {
      "text/plain": [
       "tensor(0.2724)"
      ]
     },
     "execution_count": null,
     "metadata": {},
     "output_type": "execute_result"
    }
   ],
   "source": [
    "dice = torchmetrics.classification.Dice(\n",
    "    average=\"macro\", mdmc_average=\"global\", num_classes=num_classes\n",
    ")\n",
    "dice(pred, target)"
   ]
  },
  {
   "cell_type": "markdown",
   "metadata": {},
   "source": [
    "If you desire to have the metric for each category, just use `average='none'`. "
   ]
  },
  {
   "cell_type": "code",
   "execution_count": null,
   "metadata": {},
   "outputs": [
    {
     "data": {
      "text/plain": [
       "tensor([0.9898, 1.0000, 0.0000, 0.0000])"
      ]
     },
     "execution_count": null,
     "metadata": {},
     "output_type": "execute_result"
    }
   ],
   "source": [
    "dice = torchmetrics.classification.Dice(\n",
    "    average=\"none\", mdmc_average=\"global\", num_classes=num_classes\n",
    ")\n",
    "\n",
    "dice(pred, target)"
   ]
  },
  {
   "cell_type": "markdown",
   "metadata": {},
   "source": [
    "### Precision\n",
    "[Official docs](https://torchmetrics.readthedocs.io/en/stable/classification/precision.html)"
   ]
  },
  {
   "cell_type": "code",
   "execution_count": null,
   "metadata": {},
   "outputs": [
    {
     "data": {
      "text/plain": [
       "tensor([0.9898, 1.0000, 0.0000, 0.0000])"
      ]
     },
     "execution_count": null,
     "metadata": {},
     "output_type": "execute_result"
    }
   ],
   "source": [
    "precision = torchmetrics.classification.Precision(\n",
    "    average=\"none\", mdmc_average=\"global\", num_classes=num_classes\n",
    ")\n",
    "precision(pred, target)"
   ]
  },
  {
   "cell_type": "markdown",
   "metadata": {},
   "source": [
    "### Recall\n",
    "\n",
    "[Official docs](https://torchmetrics.readthedocs.io/en/stable/classification/recall.html)"
   ]
  },
  {
   "cell_type": "code",
   "execution_count": null,
   "metadata": {},
   "outputs": [
    {
     "data": {
      "text/plain": [
       "tensor([0.9898, 1.0000, 0.0000, 0.0000])"
      ]
     },
     "execution_count": null,
     "metadata": {},
     "output_type": "execute_result"
    }
   ],
   "source": [
    "recall = torchmetrics.classification.Recall(\n",
    "    average=\"none\", mdmc_average=\"global\", num_classes=num_classes\n",
    ")\n",
    "recall(pred, target)"
   ]
  },
  {
   "cell_type": "markdown",
   "metadata": {},
   "source": [
    "### Specificity\n",
    "\n",
    "[Official docs](https://torchmetrics.readthedocs.io/en/stable/classification/specificity.html)"
   ]
  },
  {
   "cell_type": "code",
   "execution_count": null,
   "metadata": {},
   "outputs": [
    {
     "data": {
      "text/plain": [
       "tensor([0.5000, 1.0000, 0.9900, 1.0000])"
      ]
     },
     "execution_count": null,
     "metadata": {},
     "output_type": "execute_result"
    }
   ],
   "source": [
    "specificity = torchmetrics.classification.Specificity(\n",
    "    average=\"none\", mdmc_average=\"global\", num_classes=num_classes\n",
    ")\n",
    "\n",
    "specificity(pred, target)"
   ]
  },
  {
   "cell_type": "markdown",
   "metadata": {},
   "source": [
    "## Using torchmetrics with lapixdl"
   ]
  },
  {
   "cell_type": "markdown",
   "metadata": {},
   "source": [
    "The `lapixdl` package calculates the confusion matrix first (on the CPU), which this will be slower than calculating using `torchmetrics` which uses pytorch tensors. So a trick here, to not calculate each metric separately in `torchmetrics`, is to calculate a confusion matrix using `torchmetrics` and then calculate all the metrics at once using `lapixdl`. "
   ]
  },
  {
   "cell_type": "markdown",
   "metadata": {},
   "source": [
    "First, compute the confusion matrix with torch metrics"
   ]
  },
  {
   "cell_type": "code",
   "execution_count": null,
   "metadata": {},
   "outputs": [
    {
     "data": {
      "text/plain": [
       "array([[9700,    0,  100,    0],\n",
       "       [   0,  100,    0,    0],\n",
       "       [   0,    0,    0,    0],\n",
       "       [ 100,    0,    0,    0]])"
      ]
     },
     "execution_count": null,
     "metadata": {},
     "output_type": "execute_result"
    }
   ],
   "source": [
    "confMat = torchmetrics.ConfusionMatrix(\n",
    "    reduce=\"macro\", mdmc_reduce=\"global\", num_classes=num_classes\n",
    ")\n",
    "\n",
    "confusion_matrix = confMat(pred, target)\n",
    "confusion_matrix = confusion_matrix.numpy()\n",
    "confusion_matrix"
   ]
  },
  {
   "cell_type": "markdown",
   "metadata": {},
   "source": [
    "Then compute the metrics with lapixdl"
   ]
  },
  {
   "cell_type": "code",
   "execution_count": null,
   "metadata": {},
   "outputs": [],
   "source": [
    "metrics = SegmentationMetrics(\n",
    "    classes=list(id2label.values()), confusion_matrix=confusion_matrix\n",
    ")"
   ]
  },
  {
   "cell_type": "code",
   "execution_count": null,
   "metadata": {},
   "outputs": [
    {
     "data": {
      "text/html": [
       "\n",
       "  <div id=\"df-f55808cd-6b32-4a2c-80ea-b9a76ac405c9\">\n",
       "    <div class=\"colab-df-container\">\n",
       "      <div>\n",
       "<style scoped>\n",
       "    .dataframe tbody tr th:only-of-type {\n",
       "        vertical-align: middle;\n",
       "    }\n",
       "\n",
       "    .dataframe tbody tr th {\n",
       "        vertical-align: top;\n",
       "    }\n",
       "\n",
       "    .dataframe thead th {\n",
       "        text-align: right;\n",
       "    }\n",
       "</style>\n",
       "<table border=\"1\" class=\"dataframe\">\n",
       "  <thead>\n",
       "    <tr style=\"text-align: right;\">\n",
       "      <th></th>\n",
       "      <th>Average</th>\n",
       "      <th>background</th>\n",
       "      <th>A</th>\n",
       "      <th>B</th>\n",
       "      <th>C</th>\n",
       "    </tr>\n",
       "  </thead>\n",
       "  <tbody>\n",
       "    <tr>\n",
       "      <th>Accuracy</th>\n",
       "      <td>0.980000</td>\n",
       "      <td>0.98</td>\n",
       "      <td>1.0</td>\n",
       "      <td>0.99</td>\n",
       "      <td>0.99</td>\n",
       "    </tr>\n",
       "    <tr>\n",
       "      <th>Recall</th>\n",
       "      <td>0.663265</td>\n",
       "      <td>0.9897959183673469</td>\n",
       "      <td>1.0</td>\n",
       "      <td>0.0</td>\n",
       "      <td>No positive cases in GT</td>\n",
       "    </tr>\n",
       "    <tr>\n",
       "      <th>Precision</th>\n",
       "      <td>0.497449</td>\n",
       "      <td>0.989796</td>\n",
       "      <td>1</td>\n",
       "      <td>NaN</td>\n",
       "      <td>0.0</td>\n",
       "    </tr>\n",
       "    <tr>\n",
       "      <th>Specificity</th>\n",
       "      <td>0.872500</td>\n",
       "      <td>0.5</td>\n",
       "      <td>1.0</td>\n",
       "      <td>1.0</td>\n",
       "      <td>0.99</td>\n",
       "    </tr>\n",
       "    <tr>\n",
       "      <th>F-Score</th>\n",
       "      <td>0.497449</td>\n",
       "      <td>0.989796</td>\n",
       "      <td>1.0</td>\n",
       "      <td>0.0</td>\n",
       "      <td>0.0</td>\n",
       "    </tr>\n",
       "    <tr>\n",
       "      <th>FPR</th>\n",
       "      <td>0.127500</td>\n",
       "      <td>0.5</td>\n",
       "      <td>0.0</td>\n",
       "      <td>0.0</td>\n",
       "      <td>0.01</td>\n",
       "    </tr>\n",
       "    <tr>\n",
       "      <th>IoU</th>\n",
       "      <td>0.494949</td>\n",
       "      <td>0.979798</td>\n",
       "      <td>1.0</td>\n",
       "      <td>0.0</td>\n",
       "      <td>0.0</td>\n",
       "    </tr>\n",
       "    <tr>\n",
       "      <th>IoU w/o Background</th>\n",
       "      <td>0.333333</td>\n",
       "      <td>NaN</td>\n",
       "      <td>NaN</td>\n",
       "      <td>NaN</td>\n",
       "      <td>NaN</td>\n",
       "    </tr>\n",
       "    <tr>\n",
       "      <th>TP</th>\n",
       "      <td>NaN</td>\n",
       "      <td>9700</td>\n",
       "      <td>100</td>\n",
       "      <td>0</td>\n",
       "      <td>0</td>\n",
       "    </tr>\n",
       "    <tr>\n",
       "      <th>TN</th>\n",
       "      <td>NaN</td>\n",
       "      <td>100</td>\n",
       "      <td>9900</td>\n",
       "      <td>9900</td>\n",
       "      <td>9900</td>\n",
       "    </tr>\n",
       "    <tr>\n",
       "      <th>FP</th>\n",
       "      <td>NaN</td>\n",
       "      <td>100</td>\n",
       "      <td>0</td>\n",
       "      <td>0</td>\n",
       "      <td>100</td>\n",
       "    </tr>\n",
       "    <tr>\n",
       "      <th>FN</th>\n",
       "      <td>NaN</td>\n",
       "      <td>100</td>\n",
       "      <td>0</td>\n",
       "      <td>100</td>\n",
       "      <td>0</td>\n",
       "    </tr>\n",
       "  </tbody>\n",
       "</table>\n",
       "</div>\n",
       "      <button class=\"colab-df-convert\" onclick=\"convertToInteractive('df-f55808cd-6b32-4a2c-80ea-b9a76ac405c9')\"\n",
       "              title=\"Convert this dataframe to an interactive table.\"\n",
       "              style=\"display:none;\">\n",
       "        \n",
       "  <svg xmlns=\"http://www.w3.org/2000/svg\" height=\"24px\"viewBox=\"0 0 24 24\"\n",
       "       width=\"24px\">\n",
       "    <path d=\"M0 0h24v24H0V0z\" fill=\"none\"/>\n",
       "    <path d=\"M18.56 5.44l.94 2.06.94-2.06 2.06-.94-2.06-.94-.94-2.06-.94 2.06-2.06.94zm-11 1L8.5 8.5l.94-2.06 2.06-.94-2.06-.94L8.5 2.5l-.94 2.06-2.06.94zm10 10l.94 2.06.94-2.06 2.06-.94-2.06-.94-.94-2.06-.94 2.06-2.06.94z\"/><path d=\"M17.41 7.96l-1.37-1.37c-.4-.4-.92-.59-1.43-.59-.52 0-1.04.2-1.43.59L10.3 9.45l-7.72 7.72c-.78.78-.78 2.05 0 2.83L4 21.41c.39.39.9.59 1.41.59.51 0 1.02-.2 1.41-.59l7.78-7.78 2.81-2.81c.8-.78.8-2.07 0-2.86zM5.41 20L4 18.59l7.72-7.72 1.47 1.35L5.41 20z\"/>\n",
       "  </svg>\n",
       "      </button>\n",
       "      \n",
       "  <style>\n",
       "    .colab-df-container {\n",
       "      display:flex;\n",
       "      flex-wrap:wrap;\n",
       "      gap: 12px;\n",
       "    }\n",
       "\n",
       "    .colab-df-convert {\n",
       "      background-color: #E8F0FE;\n",
       "      border: none;\n",
       "      border-radius: 50%;\n",
       "      cursor: pointer;\n",
       "      display: none;\n",
       "      fill: #1967D2;\n",
       "      height: 32px;\n",
       "      padding: 0 0 0 0;\n",
       "      width: 32px;\n",
       "    }\n",
       "\n",
       "    .colab-df-convert:hover {\n",
       "      background-color: #E2EBFA;\n",
       "      box-shadow: 0px 1px 2px rgba(60, 64, 67, 0.3), 0px 1px 3px 1px rgba(60, 64, 67, 0.15);\n",
       "      fill: #174EA6;\n",
       "    }\n",
       "\n",
       "    [theme=dark] .colab-df-convert {\n",
       "      background-color: #3B4455;\n",
       "      fill: #D2E3FC;\n",
       "    }\n",
       "\n",
       "    [theme=dark] .colab-df-convert:hover {\n",
       "      background-color: #434B5C;\n",
       "      box-shadow: 0px 1px 3px 1px rgba(0, 0, 0, 0.15);\n",
       "      filter: drop-shadow(0px 1px 2px rgba(0, 0, 0, 0.3));\n",
       "      fill: #FFFFFF;\n",
       "    }\n",
       "  </style>\n",
       "\n",
       "      <script>\n",
       "        const buttonEl =\n",
       "          document.querySelector('#df-f55808cd-6b32-4a2c-80ea-b9a76ac405c9 button.colab-df-convert');\n",
       "        buttonEl.style.display =\n",
       "          google.colab.kernel.accessAllowed ? 'block' : 'none';\n",
       "\n",
       "        async function convertToInteractive(key) {\n",
       "          const element = document.querySelector('#df-f55808cd-6b32-4a2c-80ea-b9a76ac405c9');\n",
       "          const dataTable =\n",
       "            await google.colab.kernel.invokeFunction('convertToInteractive',\n",
       "                                                     [key], {});\n",
       "          if (!dataTable) return;\n",
       "\n",
       "          const docLinkHtml = 'Like what you see? Visit the ' +\n",
       "            '<a target=\"_blank\" href=https://colab.research.google.com/notebooks/data_table.ipynb>data table notebook</a>'\n",
       "            + ' to learn more about interactive tables.';\n",
       "          element.innerHTML = '';\n",
       "          dataTable['output_type'] = 'display_data';\n",
       "          await google.colab.output.renderOutput(dataTable, element);\n",
       "          const docLink = document.createElement('div');\n",
       "          docLink.innerHTML = docLinkHtml;\n",
       "          element.appendChild(docLink);\n",
       "        }\n",
       "      </script>\n",
       "    </div>\n",
       "  </div>\n",
       "  "
      ],
      "text/plain": [
       "                     Average          background     A     B  \\\n",
       "Accuracy            0.980000                0.98   1.0  0.99   \n",
       "Recall              0.663265  0.9897959183673469   1.0   0.0   \n",
       "Precision           0.497449            0.989796     1   NaN   \n",
       "Specificity         0.872500                 0.5   1.0   1.0   \n",
       "F-Score             0.497449            0.989796   1.0   0.0   \n",
       "FPR                 0.127500                 0.5   0.0   0.0   \n",
       "IoU                 0.494949            0.979798   1.0   0.0   \n",
       "IoU w/o Background  0.333333                 NaN   NaN   NaN   \n",
       "TP                       NaN                9700   100     0   \n",
       "TN                       NaN                 100  9900  9900   \n",
       "FP                       NaN                 100     0     0   \n",
       "FN                       NaN                 100     0   100   \n",
       "\n",
       "                                          C  \n",
       "Accuracy                               0.99  \n",
       "Recall              No positive cases in GT  \n",
       "Precision                               0.0  \n",
       "Specificity                            0.99  \n",
       "F-Score                                 0.0  \n",
       "FPR                                    0.01  \n",
       "IoU                                     0.0  \n",
       "IoU w/o Background                      NaN  \n",
       "TP                                        0  \n",
       "TN                                     9900  \n",
       "FP                                      100  \n",
       "FN                                        0  "
      ]
     },
     "execution_count": null,
     "metadata": {},
     "output_type": "execute_result"
    }
   ],
   "source": [
    "metrics.to_dataframe()"
   ]
  }
 ],
 "metadata": {
  "kernelspec": {
   "display_name": "python3",
   "name": "python3"
  }
 },
 "nbformat": 4,
 "nbformat_minor": 0
}
