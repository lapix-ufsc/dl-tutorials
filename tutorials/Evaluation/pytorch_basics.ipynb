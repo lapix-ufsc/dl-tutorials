{
 "cells": [
  {
   "cell_type": "markdown",
   "metadata": {},
   "source": [
    "---\n",
    "title: \"Basic PyTorch examples about error types\"\n",
    "author: \"João G. A. Amorim\"\n",
    "date: \"September 22, 2022\"\n",
    "jupyter: python3\n",
    "---"
   ]
  },
  {
   "cell_type": "markdown",
   "metadata": {},
   "source": [
    "[Definition](https://en.wikipedia.org/wiki/Type_I_and_type_II_errors)\n",
    "\n",
    "```\n",
    "                    ╭┈┈┈┈┈┈┈┈┈┈┈┈┈┈┈┈┈┈┈┈┈╮\n",
    "                    ┊      Prediction     ┊\n",
    "                    ┊ Positive ┊ Negative ┊\n",
    "╭┈┈┈┈┈┈┈┈┬┈┈┈┈┈┈┈┈┈┈┼┈┈┈┈┈┈┈┈┈┈┼┈┈┈┈┈┈┈┈┈┈┤\n",
    "┊ Ground ┊ Positive ┊    TP    ┊    FN    ┊\n",
    "┊ Truth  ┊ Negative ┊    FP    ┊    TN    ┊\n",
    "╰┈┈┈┈┈┈┈┈┴┈┈┈┈┈┈┈┈┈┈┴┈┈┈┈┈┈┈┈┈┈┴┈┈┈┈┈┈┈┈┈┈╯\n",
    "```\n",
    "\n",
    "## Simple examples\n",
    "\n",
    "\n",
    "We also can represent the same with images (or matrices):\n",
    "\n",
    "* Ground Truth:\n",
    "\n",
    "> ![](https://user-images.githubusercontent.com/20444345/164947075-e172b025-cbab-40fe-b09c-d9dd069e8e78.png)\n",
    "\n",
    "* Prediction:\n",
    "\n",
    "> ![](https://user-images.githubusercontent.com/20444345/164947101-9d360c88-6516-40eb-8e63-49bee8899d92.png)\n",
    "\n",
    "\n",
    "* Output:\n",
    "\n",
    "> ![](https://user-images.githubusercontent.com/20444345/164946983-a2bf9705-f0d7-4cbb-be96-484c5fefb4d0.png)\n",
    "\n",
    "\n",
    "\n",
    "The same with matrices:\n",
    "\n",
    "* Ground Truth:\n",
    "\n",
    "```\n",
    "╭┈┈┈┈┈┈┈┈┈┈┈┈┈┈┈┈┈┈┈╮\n",
    "┊    1    ┊    1    ┊\n",
    "┊    0    ┊    0    ┊\n",
    "╰┈┈┈┈┈┈┈┈┈┈┈┈┈┈┈┈┈┈┈╯\n",
    "```\n",
    "\n",
    "* Prediction:\n",
    "\n",
    "```\n",
    "╭┈┈┈┈┈┈┈┈┈┈┈┈┈┈┈┈┈┈┈╮\n",
    "┊    0    ┊    1    ┊\n",
    "┊    0    ┊    1    ┊\n",
    "╰┈┈┈┈┈┈┈┈┈┈┈┈┈┈┈┈┈┈┈╯\n",
    "```\n",
    "\n",
    "* Output:\n",
    "\n",
    "```\n",
    "╭┈┈┈┈┈┈┈┈┈┈┈┈┈┈┈┈┈┈┈╮\n",
    "┊    TP   ┊    FN   ┊\n",
    "┊    FP   ┊    TN   ┊\n",
    "╰┈┈┈┈┈┈┈┈┈┈┈┈┈┈┈┈┈┈┈╯\n",
    "```\n",
    "\n",
    "Where we can also represent the binary cases (0's and 1's) with `True` and `False`.\n",
    "\n",
    "To represent each one, we can create a bool matrix for each.\n",
    "\n",
    ">TP\n",
    "```\n",
    "╭┈┈┈┈┈┈┈┈┈┈┈┈┈┈┈┈┈┈┈╮\n",
    "┊    1    ┊    0    ┊\n",
    "┊    0    ┊    0    ┊\n",
    "╰┈┈┈┈┈┈┈┈┈┈┈┈┈┈┈┈┈┈┈╯\n",
    "```\n",
    ">TN\n",
    "```\n",
    "╭┈┈┈┈┈┈┈┈┈┈┈┈┈┈┈┈┈┈┈╮\n",
    "┊    0    ┊    0    ┊\n",
    "┊    0    ┊    1    ┊\n",
    "╰┈┈┈┈┈┈┈┈┈┈┈┈┈┈┈┈┈┈┈╯\n",
    "```\n",
    ">FP\n",
    "```\n",
    "╭┈┈┈┈┈┈┈┈┈┈┈┈┈┈┈┈┈┈┈╮\n",
    "┊    0    ┊    0    ┊\n",
    "┊    1    ┊    0    ┊\n",
    "╰┈┈┈┈┈┈┈┈┈┈┈┈┈┈┈┈┈┈┈╯\n",
    "```\n",
    ">FN\n",
    "```\n",
    "╭┈┈┈┈┈┈┈┈┈┈┈┈┈┈┈┈┈┈┈╮\n",
    "┊    0    ┊    1    ┊\n",
    "┊    0    ┊    0    ┊\n",
    "╰┈┈┈┈┈┈┈┈┈┈┈┈┈┈┈┈┈┈┈╯\n",
    "```"
   ]
  },
  {
   "cell_type": "markdown",
   "metadata": {},
   "source": [
    "## With `Pytorch` tensor."
   ]
  },
  {
   "cell_type": "code",
   "execution_count": null,
   "metadata": {},
   "outputs": [],
   "source": [
    "import torch"
   ]
  },
  {
   "cell_type": "markdown",
   "metadata": {},
   "source": [
    "Create the `ground truth` and `prediction` samples."
   ]
  },
  {
   "cell_type": "code",
   "execution_count": null,
   "metadata": {},
   "outputs": [
    {
     "data": {
      "text/plain": [
       "tensor([[1., 1.],\n",
       "        [0., 0.]])"
      ]
     },
     "execution_count": null,
     "metadata": {},
     "output_type": "execute_result"
    }
   ],
   "source": [
    "groud_truth = torch.zeros((2, 2))\n",
    "groud_truth[0, :] = 1\n",
    "groud_truth"
   ]
  },
  {
   "cell_type": "code",
   "execution_count": null,
   "metadata": {},
   "outputs": [
    {
     "data": {
      "text/plain": [
       "tensor([[1., 0.],\n",
       "        [1., 0.]])"
      ]
     },
     "execution_count": null,
     "metadata": {},
     "output_type": "execute_result"
    }
   ],
   "source": [
    "prediction = torch.zeros((2, 2))\n",
    "prediction[:, 0] = 1\n",
    "prediction"
   ]
  },
  {
   "cell_type": "markdown",
   "metadata": {},
   "source": [
    "Transform the `ground truth` and `prediction` samples into a bool tensor. This is important for multicategorical tensors/samples."
   ]
  },
  {
   "cell_type": "code",
   "execution_count": null,
   "metadata": {},
   "outputs": [
    {
     "data": {
      "text/plain": [
       "tensor([[ True,  True],\n",
       "        [False, False]])"
      ]
     },
     "execution_count": null,
     "metadata": {},
     "output_type": "execute_result"
    }
   ],
   "source": [
    "groud_truth_bool = torch.where(groud_truth == 1, True, False)\n",
    "groud_truth_bool"
   ]
  },
  {
   "cell_type": "code",
   "execution_count": null,
   "metadata": {},
   "outputs": [
    {
     "data": {
      "text/plain": [
       "tensor([[ True, False],\n",
       "        [ True, False]])"
      ]
     },
     "execution_count": null,
     "metadata": {},
     "output_type": "execute_result"
    }
   ],
   "source": [
    "prediction_bool = torch.where(prediction == 1, True, False)\n",
    "prediction_bool"
   ]
  },
  {
   "cell_type": "markdown",
   "metadata": {},
   "source": [
    "Computing the bool matrices for `TP`, `TN`, `FP`, and `FN`."
   ]
  },
  {
   "cell_type": "code",
   "execution_count": null,
   "metadata": {},
   "outputs": [
    {
     "data": {
      "text/plain": [
       "tensor([[ True, False],\n",
       "        [False, False]])"
      ]
     },
     "execution_count": null,
     "metadata": {},
     "output_type": "execute_result"
    }
   ],
   "source": [
    "# TP\n",
    "# TP = (groud_truth_bool==True) & (prediction_bool==False)\n",
    "\n",
    "# Simpler\n",
    "TP = groud_truth_bool & prediction_bool\n",
    "TP"
   ]
  },
  {
   "cell_type": "code",
   "execution_count": null,
   "metadata": {},
   "outputs": [
    {
     "data": {
      "text/plain": [
       "tensor([[False, False],\n",
       "        [False,  True]])"
      ]
     },
     "execution_count": null,
     "metadata": {},
     "output_type": "execute_result"
    }
   ],
   "source": [
    "# TN\n",
    "# TN = (groud_truth_bool==False) & (prediction_bool==False)\n",
    "\n",
    "# Simpler\n",
    "TN = ~groud_truth_bool & ~prediction_bool\n",
    "TN"
   ]
  },
  {
   "cell_type": "code",
   "execution_count": null,
   "metadata": {},
   "outputs": [
    {
     "data": {
      "text/plain": [
       "tensor([[False, False],\n",
       "        [ True, False]])"
      ]
     },
     "execution_count": null,
     "metadata": {},
     "output_type": "execute_result"
    }
   ],
   "source": [
    "# FP\n",
    "# FP = (groud_truth_bool==False) & (prediction_bool==True)\n",
    "\n",
    "# Simpler\n",
    "FP = ~groud_truth_bool & prediction_bool\n",
    "FP"
   ]
  },
  {
   "cell_type": "code",
   "execution_count": null,
   "metadata": {},
   "outputs": [
    {
     "data": {
      "text/plain": [
       "tensor([[False,  True],\n",
       "        [False, False]])"
      ]
     },
     "execution_count": null,
     "metadata": {},
     "output_type": "execute_result"
    }
   ],
   "source": [
    "# FN\n",
    "# FN = (groud_truth_bool==True) & (prediction_bool==False)\n",
    "\n",
    "# Simpler\n",
    "FN = groud_truth_bool & ~prediction_bool\n",
    "FN"
   ]
  },
  {
   "cell_type": "markdown",
   "metadata": {},
   "source": [
    "Counting the total occurrences for each one"
   ]
  },
  {
   "cell_type": "code",
   "execution_count": null,
   "metadata": {},
   "outputs": [],
   "source": [
    "occurrences = {}"
   ]
  },
  {
   "cell_type": "code",
   "execution_count": null,
   "metadata": {},
   "outputs": [
    {
     "data": {
      "text/plain": [
       "1"
      ]
     },
     "execution_count": null,
     "metadata": {},
     "output_type": "execute_result"
    }
   ],
   "source": [
    "# TP quantity\n",
    "occurrences[\"TP\"] = TP.sum().item()\n",
    "occurrences[\"TP\"]"
   ]
  },
  {
   "cell_type": "code",
   "execution_count": null,
   "metadata": {},
   "outputs": [
    {
     "data": {
      "text/plain": [
       "1"
      ]
     },
     "execution_count": null,
     "metadata": {},
     "output_type": "execute_result"
    }
   ],
   "source": [
    "# TN quantity\n",
    "occurrences[\"TN\"] = TN.sum().item()\n",
    "occurrences[\"TN\"]"
   ]
  },
  {
   "cell_type": "code",
   "execution_count": null,
   "metadata": {},
   "outputs": [
    {
     "data": {
      "text/plain": [
       "1"
      ]
     },
     "execution_count": null,
     "metadata": {},
     "output_type": "execute_result"
    }
   ],
   "source": [
    "# FP quantity\n",
    "occurrences[\"FP\"] = FP.sum().item()\n",
    "occurrences[\"FP\"]"
   ]
  },
  {
   "cell_type": "code",
   "execution_count": null,
   "metadata": {},
   "outputs": [
    {
     "data": {
      "text/plain": [
       "1"
      ]
     },
     "execution_count": null,
     "metadata": {},
     "output_type": "execute_result"
    }
   ],
   "source": [
    "# FN quantity\n",
    "occurrences[\"FN\"] = FN.sum().item()\n",
    "occurrences[\"FN\"]"
   ]
  },
  {
   "cell_type": "markdown",
   "metadata": {},
   "source": [
    "## Explanations\n"
   ]
  },
  {
   "cell_type": "markdown",
   "metadata": {},
   "source": [
    "\n",
    "### Operations"
   ]
  },
  {
   "cell_type": "markdown",
   "metadata": {},
   "source": [
    "\n",
    "1. When have something like `TP + FP`, we can **read** this as *sum between the number of occurrences TP and the number of occurrences FP*\n",
    "\n",
    "2. Considering green is `Truth` and Red is `False`:\n",
    "\n",
    "  * Ground Truth:\n",
    "\n",
    "  > ![](https://user-images.githubusercontent.com/20444345/164947075-e172b025-cbab-40fe-b09c-d9dd069e8e78.png)\n",
    "\n",
    "  * Prediction:\n",
    "\n",
    "  > ![](https://user-images.githubusercontent.com/20444345/164947101-9d360c88-6516-40eb-8e63-49bee8899d92.png)\n",
    "\n",
    "3. Truth table of error types\n",
    "  ```\n",
    "  ╭┈┈┈┈┈┈┈┈┈┬┈┈┈┈┈┈┈┈┈┬┈┈┈┈┈┈┈┈┈┈╮\n",
    "  ┊   GT    ┊   Pred  ┊   Out    ┊\n",
    "  ├┈┈┈┈┈┈┈┈┈┼┈┈┈┈┈┈┈┈┈┼┈┈┈┈┈┈┈┈┈┈┤\n",
    "  ┊    0    ┊    0    ┊   TN     ┊\n",
    "  ┊    0    ┊    1    ┊   FP     ┊\n",
    "  ┊    1    ┊    0    ┊   FN     ┊\n",
    "  ┊    1    ┊    1    ┊   TP     ┊\n",
    "  ╰┈┈┈┈┈┈┈┈┈┴┈┈┈┈┈┈┈┈┈┴┈┈┈┈┈┈┈┈┈┈╯\n",
    "  ```"
   ]
  },
  {
   "cell_type": "markdown",
   "metadata": {},
   "source": [
    "### TN"
   ]
  },
  {
   "cell_type": "markdown",
   "metadata": {},
   "source": [
    "> ![](https://user-images.githubusercontent.com/20444345/164984123-94f32669-18bb-4c61-b47d-521a9b493b61.png)\n",
    "\n",
    "Looking at the *Truth table of error types*, we also can say or simplify the operation to `TN = (GT nor Pred)`.\n",
    "\n",
    "We can play with [Karnaugh map](https://en.wikipedia.org/wiki/Karnaugh_map) to found the same result, where `A=Ground Truth` and `B=Prediction`:\n",
    "\n",
    "* Truth table of Union function\n",
    "```\n",
    "╭┈┈┈┈┈┈┈┈┈┬┈┈┈┈┈┈┈┈┈┬┈┈┈┈┈┈┈┈╮\n",
    "┊    A    ┊    B    ┊   TN   ┊\n",
    "├┈┈┈┈┈┈┈┈┈┼┈┈┈┈┈┈┈┈┈┼┈┈┈┈┈┈┈┈┤\n",
    "┊    0    ┊    0    ┊   1    ┊\n",
    "┊    0    ┊    1    ┊   0    ┊\n",
    "┊    1    ┊    0    ┊   0    ┊\n",
    "┊    1    ┊    1    ┊   0    ┊\n",
    "╰┈┈┈┈┈┈┈┈┈┴┈┈┈┈┈┈┈┈┈┴┈┈┈┈┈┈┈┈╯\n",
    "```\n",
    "\n",
    "* Karnaugh map of Union function\n",
    "```\n",
    "          ╭┈┈┈┈┈┈┈┈┈┬┈┈┈┈┈┈┈┈┈╮\n",
    "          ┊  not A  ┊    A    ┊\n",
    "╭┈┈┈┈┈┈┈┈┈┼┈┈┈┈┈┈┈┈┈┼┈┈┈┈┈┈┈┈┈┤\n",
    "┊  not B  ┊    1    ┊    0    ┊\n",
    "┊    B    ┊    0    ┊    0    ┊\n",
    "╰┈┈┈┈┈┈┈┈┈┴┈┈┈┈┈┈┈┈┈┴┈┈┈┈┈┈┈┈┈╯\n",
    "```\n",
    "  - Grouping:\n",
    "    - G1 = (not A) and (not B)\n",
    "  - Solution\n",
    "    - Out = TN = G1 = (not A) and (not B) then **(not GT) and (not Pred)**\n",
    "    - Simplify\n",
    "       - (not A) and (not B) = not not ((not A) and (not B)) = not (not not A or not not B) = not (A or B) =A nor B = **GT nor Pred**\n",
    "\n",
    "\n"
   ]
  },
  {
   "cell_type": "markdown",
   "metadata": {},
   "source": [
    "### Union"
   ]
  },
  {
   "cell_type": "markdown",
   "metadata": {},
   "source": [
    "Union = TP + FP + FN\n",
    "\n",
    "> ![](https://user-images.githubusercontent.com/20444345/164982221-282cf16b-dfc2-49a6-8e30-c32213a56fa5.png)\n",
    "\n",
    "Looking at the *Truth table of error types*, we also can say or simplify the operation to `Union = GT or Pred`.\n",
    "\n",
    "We can play with [Karnaugh map](https://en.wikipedia.org/wiki/Karnaugh_map) to found the same result, where `A=Ground Truth` and `B=Prediction`:\n",
    "\n",
    "* Truth table of Union function\n",
    "```\n",
    "╭┈┈┈┈┈┈┈┈┈┬┈┈┈┈┈┈┈┈┈┬┈┈┈┈┈┈┈┈┈┈╮\n",
    "┊    A    ┊    B    ┊  Union   ┊\n",
    "├┈┈┈┈┈┈┈┈┈┼┈┈┈┈┈┈┈┈┈┼┈┈┈┈┈┈┈┈┈┈┤\n",
    "┊    0    ┊    0    ┊    0     ┊\n",
    "┊    0    ┊    1    ┊    1     ┊\n",
    "┊    1    ┊    0    ┊    1     ┊\n",
    "┊    1    ┊    1    ┊    1     ┊\n",
    "╰┈┈┈┈┈┈┈┈┈┴┈┈┈┈┈┈┈┈┈┴┈┈┈┈┈┈┈┈┈┈╯\n",
    "```\n",
    "\n",
    "* Karnaugh map of Union function\n",
    "```\n",
    "          ╭┈┈┈┈┈┈┈┈┈┬┈┈┈┈┈┈┈┈┈╮\n",
    "          ┊  not A  ┊    A    ┊\n",
    "╭┈┈┈┈┈┈┈┈┈┼┈┈┈┈┈┈┈┈┈┼┈┈┈┈┈┈┈┈┈┤\n",
    "┊  not B  ┊    0    ┊    1    ┊\n",
    "┊    B    ┊    1    ┊    1    ┊\n",
    "╰┈┈┈┈┈┈┈┈┈┴┈┈┈┈┈┈┈┈┈┴┈┈┈┈┈┈┈┈┈╯\n",
    "```\n",
    "  - Grouping:\n",
    "    - G1 = A\n",
    "    - G2 = B\n",
    "  - Solution\n",
    "    - Out = Union = G1 + G2 = A + B = A or B then **GT or Pred**\n",
    "\n",
    "\n"
   ]
  },
  {
   "cell_type": "markdown",
   "metadata": {},
   "source": [
    "### Intersection (TP)"
   ]
  },
  {
   "cell_type": "markdown",
   "metadata": {},
   "source": [
    "Intersection = TP\n",
    "\n",
    "> ![](https://user-images.githubusercontent.com/20444345/164983019-6bf5473d-5400-4512-a792-1535e71d10f0.png)\n",
    "\n",
    "Looking at the *Truth table of error types*, we also can say or simplify the operation to `Union = GT and Pred`.\n",
    "\n",
    "We can play with [Karnaugh map](https://en.wikipedia.org/wiki/Karnaugh_map) to found the same result, where `A=Ground Truth` and `B=Prediction`:\n",
    "\n",
    "* Truth table of Intersection function\n",
    "```\n",
    "╭┈┈┈┈┈┈┈┈┈┬┈┈┈┈┈┈┈┈┈┬┈┈┈┈┈┈┈┈┈┈┈┈┈┈╮\n",
    "┊    A    ┊    B    ┊ Intersection ┊\n",
    "├┈┈┈┈┈┈┈┈┈┼┈┈┈┈┈┈┈┈┈┼┈┈┈┈┈┈┈┈┈┈┈┈┈┈┤\n",
    "┊    0    ┊    0    ┊      0       ┊\n",
    "┊    0    ┊    1    ┊      0       ┊\n",
    "┊    1    ┊    0    ┊      0       ┊\n",
    "┊    1    ┊    1    ┊      1       ┊\n",
    "╰┈┈┈┈┈┈┈┈┈┴┈┈┈┈┈┈┈┈┈┴┈┈┈┈┈┈┈┈┈┈┈┈┈┈╯\n",
    "```\n",
    "\n",
    "* Karnaugh map of Intersection function\n",
    "```\n",
    "          ╭┈┈┈┈┈┈┈┈┈┬┈┈┈┈┈┈┈┈┈╮\n",
    "          ┊  not A  ┊    A    ┊\n",
    "╭┈┈┈┈┈┈┈┈┈┼┈┈┈┈┈┈┈┈┈┼┈┈┈┈┈┈┈┈┈┤\n",
    "┊  not B  ┊    0    ┊    0    ┊\n",
    "┊    B    ┊    0    ┊    1    ┊\n",
    "╰┈┈┈┈┈┈┈┈┈┴┈┈┈┈┈┈┈┈┈┴┈┈┈┈┈┈┈┈┈╯\n",
    "```\n",
    "  - Grouping:\n",
    "    - G1 = AB\n",
    "  - Solution\n",
    "    - Out = Intersection = G1 = AB = A and B then **GT and Pred**\n"
   ]
  },
  {
   "cell_type": "markdown",
   "metadata": {},
   "source": [
    "### FAQ"
   ]
  },
  {
   "cell_type": "markdown",
   "metadata": {},
   "source": [
    "#### Why use Pytorch Tensors instead of Numpy array?\n",
    "\n",
    "\n",
    "- Tensors are in GPU memory (VRAM), and compute using the GPU processor. The numpy matrix, or builtin list, is in normal memory (RAM), and operations between these use the normal processor (CPU). For matrices math, in a few words, GPUs are better suited because they are constructed for that (at the hardware level).\n",
    "\n",
    "- Furthermore, have an important factor, when training a deep learning model, in general, you will use a GPU, because of the same reason explained above. So, if you have ground truth and predicted matrices at VRAM, and write a code to compute some math using the NumPy by example, you can easily transform a tensor into a NumPy array calling something like `.detach().cpu().numpy()`. And with tensor transformed into a NumPy array, you just need to realize the math/NumPy operation. The problem is, doing that, you will spend time with the data doing something like `from VRAM to RAM to CPU cache` for then the CPU can compute the operation.\n",
    "  - Doing this with bigger batchs of matrices will be worst. And doing this repeatedly at a loop, you can spend time that could be saved."
   ]
  },
  {
   "cell_type": "markdown",
   "metadata": {},
   "source": [
    "#### Why use a Pytorch metric or a writed by self metric using Tensors instead of the simple use of sklearn function?\n",
    "- The same answers from **Why use Pytorch Tensors instead of Numpy array?**"
   ]
  }
 ],
 "metadata": {
  "kernelspec": {
   "display_name": "python3",
   "name": "python3"
  }
 },
 "nbformat": 4,
 "nbformat_minor": 0
}
